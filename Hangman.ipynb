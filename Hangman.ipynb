{
 "cells": [
  {
   "cell_type": "code",
   "execution_count": null,
   "metadata": {
    "scrolled": true
   },
   "outputs": [
    {
     "name": "stdout",
     "output_type": "stream",
     "text": [
      "Lives: 1\n",
      "Past Guesses: g o h m i\n",
      "a p p l e _\n"
     ]
    }
   ],
   "source": [
    "from random import randint\n",
    "from IPython.display import clear_output\n",
    "word_list = ['Vamoose',\n",
    "'Crustacean',\n",
    "'Plateau',\n",
    "'Stadium',\n",
    "'Arcane',\n",
    "'Dictatorial',\n",
    "'August',\n",
    "'Moribund',\n",
    "'Salubrious',\n",
    "'Computational',\n",
    "'Mercantile',\n",
    "'Oligarchy',\n",
    "'Gerrymandering']\n",
    "def word_select():\n",
    "        return word_list[randint(0,len(word_list)-1)]\n",
    "\n",
    "def guess_check(word, status, lives,wrong):\n",
    "    guess = input(\"Guess a letter: \")\n",
    "    while len(guess)>1:\n",
    "        guess = input(\"Guess ONE letter: \").lower()\n",
    "    if guess in word.lower():\n",
    "        print(f\"Awesome! {guess} is in the word!\")\n",
    "        for i in range(len(word)):\n",
    "            if word[i].lower() == guess:\n",
    "                status[i] = word[i]\n",
    "    else:\n",
    "        lives -= 1\n",
    "        print(f\"Sorry, {guess} was not in the word.\")\n",
    "        wrong.append(guess)\n",
    "#     print_status(status,lives,wrong)\n",
    "    return word, status, lives, wrong\n",
    "\n",
    "def print_status(status,lives,wrong):\n",
    "    clear_output()\n",
    "    print(f\"Lives: {lives}\")\n",
    "    print(f\"Past Guesses: \", end=\"\")\n",
    "    print(\" \".join(wrong))\n",
    "    print(\" \".join(status))\n",
    "\n",
    "def game_function():\n",
    "    word = word_select()\n",
    "    lives = 6\n",
    "    wrong = []\n",
    "    status = list(\"_\"*len(word))\n",
    "    while lives != 0:\n",
    "        print_status(status,lives,wrong)\n",
    "        word, status, lives, wrong = guess_check(word, status, lives, wrong)\n",
    "        if \"_\" not in status:\n",
    "            print(\"You Win!\")\n",
    "            print(f\"The correct word was {word}\")\n",
    "            return\n",
    "    print(f\"Game Over! The correct word was {word}!\")\n",
    "\n",
    "def main():\n",
    "    while True:\n",
    "        game_function()\n",
    "        cont = input(\"Would you like to play again? y/n \").lower()\n",
    "        if cont != \"y\":\n",
    "            print(\"Thanks for playing!\")\n",
    "            break\n",
    "        \n",
    "        \n",
    "        \n",
    "        \n",
    "main()"
   ]
  }
 ],
 "metadata": {
  "kernelspec": {
   "display_name": "Python 3",
   "language": "python",
   "name": "python3"
  },
  "language_info": {
   "codemirror_mode": {
    "name": "ipython",
    "version": 3
   },
   "file_extension": ".py",
   "mimetype": "text/x-python",
   "name": "python",
   "nbconvert_exporter": "python",
   "pygments_lexer": "ipython3",
   "version": "3.6.4"
  }
 },
 "nbformat": 4,
 "nbformat_minor": 2
}
