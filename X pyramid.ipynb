{
 "cells": [
  {
   "cell_type": "code",
   "execution_count": 16,
   "metadata": {},
   "outputs": [
    {
     "name": "stdout",
     "output_type": "stream",
     "text": [
      "    X \n",
      "   X X \n",
      "  X X X \n",
      " X X X X \n",
      "X X X X X \n"
     ]
    }
   ],
   "source": [
    "for each in range(5):\n",
    "    print(\" \"*(4-each)+(\"X \"*(each+1)))"
   ]
  },
  {
   "cell_type": "markdown",
   "metadata": {},
   "source": []
  },
  {
   "cell_type": "code",
   "execution_count": 19,
   "metadata": {},
   "outputs": [
    {
     "name": "stdout",
     "output_type": "stream",
     "text": [
      "    X\n",
      "   XXX\n",
      "  XXXXX\n",
      " XXXXXXX\n",
      "XXXXXXXXX\n"
     ]
    }
   ],
   "source": [
    "for each in range(5):\n",
    "    print(\" \"*(4-each)+(\"X\"+(\"XX\"*(each))))"
   ]
  },
  {
   "cell_type": "code",
   "execution_count": 23,
   "metadata": {},
   "outputs": [
    {
     "name": "stdout",
     "output_type": "stream",
     "text": [
      "0\n",
      "0\n",
      "1\n",
      "8\n",
      "27\n",
      "64\n",
      "125\n",
      "216\n",
      "343\n",
      "512\n",
      "729\n",
      "1000\n"
     ]
    }
   ],
   "source": [
    "start = 0\n",
    "total = 0\n",
    "while total <= 1000:\n",
    "    print(total)\n",
    "    total = start**3\n",
    "    start += 1"
   ]
  },
  {
   "cell_type": "code",
   "execution_count": 27,
   "metadata": {},
   "outputs": [
    {
     "data": {
      "text/plain": [
       "0"
      ]
     },
     "execution_count": 27,
     "metadata": {},
     "output_type": "execute_result"
    }
   ],
   "source": [
    "\"abcdefghijklmnopqrstuvwxyz\".find(\"a\")"
   ]
  },
  {
   "cell_type": "code",
   "execution_count": 35,
   "metadata": {},
   "outputs": [
    {
     "name": "stdout",
     "output_type": "stream",
     "text": [
      "2\n",
      "3\n",
      "5\n",
      "7\n",
      "11\n",
      "13\n",
      "17\n",
      "19\n",
      "23\n",
      "29\n",
      "31\n",
      "37\n",
      "41\n",
      "43\n",
      "47\n",
      "53\n",
      "59\n",
      "61\n",
      "67\n",
      "71\n",
      "73\n",
      "79\n",
      "83\n",
      "89\n",
      "97\n",
      "101\n",
      "103\n",
      "107\n",
      "109\n",
      "113\n",
      "127\n",
      "131\n",
      "137\n",
      "139\n",
      "149\n",
      "151\n",
      "157\n",
      "163\n",
      "167\n",
      "173\n",
      "179\n",
      "181\n",
      "191\n",
      "193\n",
      "197\n",
      "199\n",
      "211\n",
      "223\n",
      "227\n",
      "229\n",
      "233\n",
      "239\n",
      "241\n",
      "251\n",
      "257\n",
      "263\n",
      "269\n",
      "271\n",
      "277\n",
      "281\n",
      "283\n",
      "293\n",
      "307\n",
      "311\n",
      "313\n",
      "317\n",
      "331\n",
      "337\n",
      "347\n",
      "349\n",
      "353\n",
      "359\n",
      "367\n",
      "373\n",
      "379\n",
      "383\n",
      "389\n",
      "397\n",
      "401\n",
      "409\n",
      "419\n",
      "421\n",
      "431\n",
      "433\n",
      "439\n",
      "443\n",
      "449\n",
      "457\n",
      "461\n",
      "463\n",
      "467\n",
      "479\n",
      "487\n",
      "491\n",
      "499\n",
      "503\n",
      "509\n",
      "521\n",
      "523\n",
      "541\n"
     ]
    }
   ],
   "source": [
    "primes = 0\n",
    "current = 2\n",
    "while primes < 100:\n",
    "    remainders = []\n",
    "    for each in range(1, current+1):\n",
    "        remainders.append(current%each)\n",
    "        #duh, could have established a range from 2 to each noninclusive, which should have precluded ANY even divisors\n",
    "    if remainders.count(0) == 2:\n",
    "        print(current)\n",
    "        primes += 1\n",
    "    current += 1\n",
    "    "
   ]
  },
  {
   "cell_type": "code",
   "execution_count": 31,
   "metadata": {},
   "outputs": [
    {
     "name": "stdout",
     "output_type": "stream",
     "text": [
      "5\n"
     ]
    }
   ],
   "source": [
    "print([0,0,0,0,0].count(0))"
   ]
  },
  {
   "cell_type": "code",
   "execution_count": 48,
   "metadata": {},
   "outputs": [],
   "source": [
    "def calculator():\n",
    "    input1 = input(\"Please input a number\")\n",
    "    input2 = input(\"Please input a number another number\")\n",
    "    if numcheck(input1) and numcheck(input2):\n",
    "        return input1+input2\n",
    "    else:\n",
    "        print(\"Numbers only, Dammit\")\n",
    "\n",
    "def numcheck(num):\n",
    "    return isinstance(num, int) or isinstance(num, float)\n",
    "    \n",
    "    "
   ]
  },
  {
   "cell_type": "code",
   "execution_count": 10,
   "metadata": {},
   "outputs": [
    {
     "name": "stdout",
     "output_type": "stream",
     "text": [
      "{'chinos': 1}\n"
     ]
    }
   ],
   "source": [
    "dict1 = {}\n",
    "dict1 = {\"jeans\": 1}\n",
    "dict1 = {'chinos':1}\n",
    "\n",
    "print(dict1)\n",
    "print(dict1)"
   ]
  },
  {
   "cell_type": "code",
   "execution_count": 57,
   "metadata": {},
   "outputs": [],
   "source": [
    "WORDS = {'capital', 'live', 'level', 'chair', 'mount', 'put', 'thought', 'support', 'branch', 'find', 'map', 'similar', 'her', 'family', 'position', 'charge', 'coat', 'safe', 'term', 'house', 'liquid', 'glad', 'hurry', 'cell', 'mark', 'keep', 'new', 'tiny', 'hit', 'decide', 'quotient', 'shell', 'believe', 'radio', 'free', 'sharp', 'always', 'cow', 'teeth', 'season', 'common', 'fill', 'root', 'section', 'question', 'window', 'lot', 'prove', 'invent', 'open', 'gold', 'why', 'were', 'cloud', 'on', 'continue', 'winter', 'people', 'syllable', 'minute', 'may', 'silent', 'material', 'ball', 'said', 'direct', 'drop', 'office', 'fraction', 'right', 'plant', 'enter', 'settle', 'fun', 'leave', 'letter', 'back', 'would', 'sat', 'chance', 'led', 'instrument', 'see', 'wave', 'bell', 'the', 'knew', 'green', 'laugh', 'poem', 'hole', 'tube', 'melody', 'parent', 'use', 'row', 'natural', 'history', 'happy', 'force', 'morning', 'fall', 'begin', 'show', 'ear', 'log', 'four', 'select', 'captain', 'corner', 'temperature', 'spring', 'speak', 'king', 'cost', 'school', 'column', 'off', 'electric', 'strong', 'still', 'say', 'locate', 'night', 'die', 'can', 'ten', 'print', 'story', 'art', 'usual', 'hand', 'be', 'hundred', 'water', 'sit', 'burn', 'sky', 'name', 'least', 'skin', 'develop', 'home', 'party', 'system', 'bear', 'game', 'receive', 'teach', 'solution', 'correct', 'cook', 'protect', 'color', 'caught', 'give', 'process', 'got', 'finish', 'wtf', 'forward', 'at', 'crop', 'jumps', 'rain', 'boy', 'wrote', 'self', 'while', 'stand', 'take', 'ring', 'call', 'death', 'expect', 'soil', 'their', 'port', 'swim', 'tool', 'sea', 'stood', 'room', 'hill', 'region', 'dream', 'pose', 'bring', 'except', 'pound', 'mean', 'drive', 'group', 'join', 'whose', 'length', 'fruit', 'my', 'wall', 'deep', 'play', 'wish', 'value', 'here', 'depend', 'chief', 'course', 'company', 'moon', 'post', 'ride', 'own', 'sent', 'plane', 'behind', 'dear', 'as', 'original', 'machine', 'done', 'occur', 'every', 'opposite', 'they', 'ever', 'energy', 'country', 'sugar', 'island', 'miss', 'stick', 'several', 'crease', 'fine', 'fly', 'same', 'who', 'scale', 'door', 'complete', 'space', 'repeat', 'lay', 'character', 'bird', 'century', 'moment', 'division', 'did', 'grand', 'heavy', 'are', 'round', 'lake', 'dead', 'page', 'word', 'solve', 'sing', 'experiment', 'add', 'meat', 'man', 'head', 'little', 'stretch', 'supply', 'student', 'pull', 'person', 'spoke', 'these', 'air', 'been', 'bar', 'flat', 'over', 'surface', 'this', 'sign', 'shine', 'life', 'held', 'red', 'year', 'meant', 'rail', 'bat', 'piece', 'rock', 'win', 'anger', 'three', 'allow', 'ask', 'study', 'insect', 'about', 'ship', 'through', 'suffix', 'quick', 'master', 'power', 'chick', 'any', 'total', 'move', 'often', 'quart', 'discuss', 'buy', 'gas', 'chord', 'search', 'clean', 'could', 'effect', 'snow', 'push', 'subtract', 'rule', 'third', 'method', 'above', 'arrive', 'tell', 'world', 'wash', 'lie', 'remember', 'stop', 'cold', 'cause', 'part', 'represent', 'store', 'wheel', 'together', 'age', 'colony', 'cool', 'money', 'voice', 'child', 'unit', 'trouble', 'paper', 'wait', 'exact', \"don't\", 'his', 'blow', 'shoe', 'inch', 'base', 'change', 'clock', 'day', 'prepare', 'double', 'race', 'circle', 'very', 'train', 'govern', 'planet', 'blood', 'experience', 'gone', 'dictionary', 'fear', 'true', 'middle', 'then', 'late', 'animal', 'matter', 'cry', 'subject', 'press', 'thousand', 'eight', 'band', 'will', 'hair', 'type', 'step', 'where', 'path', 'sudden', 'wear', 'stream', 'element', 'felt', 'instant', 'long', 'vary', 'weight', 'children', 'oxygen', 'serve', 'desert', 'dog', 'north', 'summer', 'if', 'straight', 'noon', 'west', 'pretty', 'figure', 'soon', 'you', 'broad', 'picture', 'bread', 'smile', 'garden', 'final', 'rise', 'have', 'vowel', 'cross', 'box', 'had', 'feet', 'him', 'try', 'spend', 'plan', 'check', 'toward', 'road', 'heat', 'floor', 'case', 'success', 'came', 'during', 'fire', 'roll', 'hat', 'plural', 'point', 'result', 'gun', 'order', 'smell', 'mind', 'huge', 'separate', 'has', 'basic', 'girl', 'meet', 'period', 'pass', 'five', 'dress', 'by', 'table', 'phrase', 'observe', 'clothe', 'draw', 'notice', 'full', 'property', 'want', 'stay', 'well', 'choose', 'carry', 'flow', 'condition', 'silver', 'written', 'next', 'bed', 'guide', 'of', 'team', 'probable', 'in', 'way', 'thus', 'fresh', 'steel', 'tree', 'ocean', 'make', 'run', 'else', 'segment', 'connect', 'afraid', 'molecule', 'men', 'tone', 'weather', 'lazy', 'engine', 'atom', 'two', 'throw', 'tie', 'eat', 'star', 'exercise', 'warm', 'care', 'lift', 'hear', 'seem', 'sheet', 'doctor', 'thin', 'whether', 'suggest', 'distant', 'modern', 'wind', 'some', 'food', 'which', 'feed', 'mine', 'listen', 'brother', 'thing', 'mouth', 'second', 'neck', 'though', 'those', 'first', 'organ', 'until', 'much', 'mile', 'your', 'face', 'better', 'bank', 'excite', 'ran', 'difficult', 'love', 'key', 'slip', 'forest', 'deal', 'visit', 'slave', 'example', 'but', 'went', 'ground', 'hold', 'measure', 'close', 'bright', 'appear', 'produce', 'sister', 'speech', 'match', 'rose', 'cent', 'field', 'shape', 'mother', 'string', 'before', 'loud', 'score', 'east', 'please', 'after', 'fight', 'quite', 'nor', 'ago', 'nation', 'mountain', 'number', 'brought', 'triangle', 'event', 'think', 'whole', 'near', 'found', 'happen', 'travel', 'station', 'market', 'populate', 'science', 'sight', 'dark', 'best', 'made', 'know', 'so', 'when', 'necessary', 'perhaps', 'coast', 'pitch', 'sound', 'class', 'a', 'speed', 'yard', 'act', 'offer', 'hope', 'leg', 'famous', 'city', 'strange', 'dance', 'fig', 'set', 'to', 'major', 'since', 'there', 'wrong', 'salt', 'corn', 'wood', 'present', 'never', 'place', 'enemy', 'once', 'beat', 'last', 'kind', 'flower', 'kept', 'grew', 'reach', 'collect', 'them', 'claim', 'milk', 'dry', 'shall', 'control', 'write', 'even', 'sail', 'apple', 'test', 'baby', 'symbol', 'bone', 'spell', 'hour', 'learn', 'shop', 'egg', 'neighbor', 'fat', 'soft', 'imagine', 'industry', 'design', 'stead', 'catch', 'big', 'town', 'reason', 'either', 'woman', 'low', 'out', 'human', 'he', 'rich', 'mass', 'top', 'few', 'truck', 'time', 'seven', 'among', 'center', 'might', 'with', 'equate', 'sleep', 'am', 'rope', 'an', 'small', 'book', 'too', 'enough', 'mix', 'law', 'favor', 'father', 'equal', 'paint', 'product', 'camp', 'both', 'heart', 'simple', 'dad', 'saw', 'ready', 'hello', 'is', 'feel', 'friend', 'nothing', 'down', 'substance', 'sure', 'bad', 'fast', 'come', 'soldier', 'ease', 'early', 'thank', 'suit', 'continent', 'crowd', 'must', 'follow', 'white', 'main', 'month', 'describe', 'card', 'all', 'car', 'size', 'born', 'between', 'turn', 'motion', 'many', 'copy', 'fair', 'cover', 'help', 'bought', 'left', 'nine', 'lady', 'past', 'require', 'me', 'gentle', 'trip', 'fact', 'contain', 'provide', 'twenty', 'verb', 'share', 'cut', 'jump', 'raise', 'far', 'rub', 'walk', 'just', 'degree', 'able', 'side', 'river', 'told', 'get', 'agree', 'village', 'shout', 'what', 'do', 'wire', 'joy', 'we', 'large', 'such', 'talk', 'dollar', 'note', 'pattern', 'sentence', 'state', 'kill', 'lost', 'surprise', 'problem', 'divide', 'shoulder', 'music', 'sand', 'stone', 'gather', 'plain', 'week', 'touch', 'each', 'steam', 'iron', 'track', 'particular', 'young', 'seed', 'thick', 'include', 'chart', 'general', 'hot', 'million', 'build', 'and', 'work', 'tail', 'for', 'tall', 'should', 'began', 'busy', 'boat', 'differ', 'determine', 'also', 'danger', 'let', 'beauty', 'decimal', 'list', 'does', 'noun', 'idea', 'form', 'street', 'seat', 'six', 'heard', 'wing', 'count', 'arm', 'grow', 'consonant', 'start', 'read', 'gave', 'board', 'wife', 'song', 'lone', 'high', 'operate', 'multiply', 'certain', 'or', 'current', 'oh', 'skill', 'like', 'arrange', 'pair', 'again', 'only', 'hard', 'how', 'war', 'wild', 'farm', 'gray', 'spot', 'son', 'most', 'yellow', 'short', 'good', 'it', 'earth', 'other', 'numeral', 'lead', 'old', 'edge', 'broke', 'send', 'area', 'ice', 'especially', 'grass', 'sense', 'more', 'light', 'south', 'yes', 'single', 'sell', 'language', 'bit', 'view', 'glass', 'she', 'under', 'proper', 'wonder', 'answer', 'break', 'land', 'spread', 'tire', 'up', 'record', 'foot', 'against', 'object', 'than', 'cotton', 'nature', 'that', 'climb', 'fox', 'cat', 'brown', 'eye', 'drink', 'slow', 'works', 'took', 'guess', 'sun', 'poor', 'need', 'rather', 'now', 'less', 'interest', 'evening', 'pick', 'horse', 'great', 'duck', 'block', 'black', 'consider', 'paragraph', 'end', 'rest', 'reply', 'was', 'yet', 'our', 'us', 'possible', 'metal', 'square', 'body', 'range', 'go', 'fit', 'women', 'practice', 'from', \"won't\", 'clear', 'line', 'create', 'pay', 'real', 'magnet', 'quiet', 'wide', 'oil', 'watch', 'nose', 'bottom', 'indicate', 'look', 'finger', 'noise', 'blue', 'one', 'valley', 'trade', 'save', 'job', 'fish', 'compare', 'fell', 'special', 'front', 'shore', 'half', 'no', 'hunt'}"
   ]
  },
  {
   "cell_type": "code",
   "execution_count": 6,
   "metadata": {},
   "outputs": [
    {
     "name": "stdout",
     "output_type": "stream",
     "text": [
      "[2, 4, 6, 8]\n"
     ]
    }
   ],
   "source": [
    "def addition(n):\n",
    "    return n + n\n",
    " \n",
    "# We double all numbers using map()\n",
    "numbers = (1, 2, 3, 4)\n",
    "result = map(addition, numbers)\n",
    "print(list(result))"
   ]
  },
  {
   "cell_type": "code",
   "execution_count": 12,
   "metadata": {},
   "outputs": [
    {
     "name": "stdout",
     "output_type": "stream",
     "text": [
      "97\n",
      "98\n",
      "99\n",
      "100\n",
      "101\n",
      "102\n",
      "103\n",
      "104\n",
      "105\n",
      "106\n",
      "107\n",
      "108\n",
      "109\n",
      "110\n",
      "111\n",
      "112\n",
      "113\n",
      "114\n",
      "115\n",
      "116\n",
      "117\n",
      "118\n",
      "119\n",
      "120\n",
      "121\n",
      "122\n"
     ]
    }
   ],
   "source": [
    "for each in \"abcdefghijklmnopqrstuvwxyz\":\n",
    "    print(ord(each))"
   ]
  }
 ],
 "metadata": {
  "kernelspec": {
   "display_name": "Python 3",
   "language": "python",
   "name": "python3"
  },
  "language_info": {
   "codemirror_mode": {
    "name": "ipython",
    "version": 3
   },
   "file_extension": ".py",
   "mimetype": "text/x-python",
   "name": "python",
   "nbconvert_exporter": "python",
   "pygments_lexer": "ipython3",
   "version": "3.6.4"
  }
 },
 "nbformat": 4,
 "nbformat_minor": 2
}
