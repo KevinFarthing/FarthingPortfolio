{
 "cells": [
  {
   "cell_type": "code",
   "execution_count": null,
   "metadata": {},
   "outputs": [],
   "source": [
    "import pprint\n",
    "def dictgen(**kwargs):\n",
    "    return(kwargs)\n",
    "    \n",
    "\n",
    "char = chargen(name=\"Conan\", lives=3, levels_completed=[\"tower of the elephant\", \"beyond the black river\",\"red nails\"], equipment=[\"sword\",\"dagger\",],potions=chargen(health=5,mana=10))\n",
    "\n",
    "for i in range(34):#i representing col\n",
    "    \n",
    "    for n in range(44):#n representing row\n",
    "        "
   ]
  }
 ],
 "metadata": {
  "kernelspec": {
   "display_name": "Python 3",
   "language": "python",
   "name": "python3"
  },
  "language_info": {
   "codemirror_mode": {
    "name": "ipython",
    "version": 3
   },
   "file_extension": ".py",
   "mimetype": "text/x-python",
   "name": "python",
   "nbconvert_exporter": "python",
   "pygments_lexer": "ipython3",
   "version": "3.6.4"
  }
 },
 "nbformat": 4,
 "nbformat_minor": 2
}
