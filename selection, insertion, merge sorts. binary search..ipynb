{
 "cells": [
  {
   "cell_type": "markdown",
   "metadata": {},
   "source": [
    "# Insertion Sort"
   ]
  },
  {
   "cell_type": "code",
   "execution_count": 59,
   "metadata": {},
   "outputs": [
    {
     "name": "stdout",
     "output_type": "stream",
     "text": [
      "[6, 5, 4, 3, 2, 1]\n",
      "[6, 5, 4, 3, 2]\n",
      "[6, 5, 4, 3]\n",
      "[6, 5, 4]\n",
      "[6, 5]\n",
      "[6]\n",
      "[1, 2, 3, 4, 5, 6]\n"
     ]
    }
   ],
   "source": [
    "test = [6,5,4,3,2,1]\n",
    "\n",
    "def selection_sort(arr1):\n",
    "    '''put in list, return list sorted numerically'''\n",
    "    print(arr1)\n",
    "    if len(arr1) == 0 or len(arr1) == 1:\n",
    "        return arr1\n",
    "    else:\n",
    "#         future versions, define your own min TO PROVE YOU CAN. for loop, low_score, etc.\n",
    "#         arr1.insert(0, arr1.pop(arr1.index(min(arr1))))\n",
    "        \n",
    "#         arr1 = [arr1[0]] + selection_sort(arr1[1:])\n",
    "        smallest = arr1.pop(arr1.index(min(arr1)))\n",
    "        recursive_solution = selection_sort(arr1)\n",
    "        return [smallest] + recursive_solution\n",
    "        \n",
    "test = selection_sort(test)\n",
    "print(test)"
   ]
  },
  {
   "cell_type": "markdown",
   "metadata": {},
   "source": [
    "# Selection Sort"
   ]
  },
  {
   "cell_type": "code",
   "execution_count": 21,
   "metadata": {},
   "outputs": [
    {
     "data": {
      "text/plain": [
       "[1, 2, 3, 4, 5, 6, 7, 8, 9]"
      ]
     },
     "execution_count": 21,
     "metadata": {},
     "output_type": "execute_result"
    }
   ],
   "source": [
    "test = [5,6,4,3,7,1,8,9,2]\n",
    "\n",
    "def selection_sort(arr1):\n",
    "    high_score = 0\n",
    "    i = 1\n",
    "    while i <= len(arr1)-1:\n",
    "        if i > high_score:\n",
    "            high_score = i\n",
    "        if arr1[i]<arr1[i-1]:\n",
    "            arr1[i],arr1[i-1]=arr1[i-1],arr1[i]\n",
    "            if i != 1:\n",
    "                i -=1\n",
    "            else:\n",
    "                i = high_score\n",
    "        else:\n",
    "            i+=1\n",
    "    return arr1\n",
    "selection_sort(test)"
   ]
  },
  {
   "cell_type": "markdown",
   "metadata": {},
   "source": [
    "# Merge Sort"
   ]
  },
  {
   "cell_type": "code",
   "execution_count": 1,
   "metadata": {},
   "outputs": [],
   "source": [
    "def merge_main(arr1):\n",
    "    pass\n",
    "\n",
    "# def merge_sort(arr1, arr2):\n",
    "#     DO NOT NEED IT! SHOULD BE INCLUDED IN merge_join\n",
    "#     '''sorts list using recursive calls'''\n",
    "#     pass\n",
    "\n",
    "def merge_split(arr1):\n",
    "    '''takes 1 list, splits it down the middle, returns each half'''\n",
    "    mid = len(arr1)//2 #1//2 = 0\n",
    "\n",
    "def merge_join(arr1, arr2):\n",
    "    '''takes 2 sorted lists and joins them returning 1 sorted list'''\n",
    "    pass"
   ]
  },
  {
   "cell_type": "markdown",
   "metadata": {},
   "source": [
    "# Binary Search"
   ]
  },
  {
   "cell_type": "code",
   "execution_count": 56,
   "metadata": {},
   "outputs": [
    {
     "data": {
      "text/plain": [
       "False"
      ]
     },
     "execution_count": 56,
     "metadata": {},
     "output_type": "execute_result"
    }
   ],
   "source": [
    "def binary_search(arr1, findme):\n",
    "    mid = int(len(arr1)/2)+(len(arr1)%2)-1\n",
    "    if len(arr1) == 0:\n",
    "        return False\n",
    "    elif findme == arr1[mid]:\n",
    "        return True\n",
    "    elif findme < arr1[mid]:\n",
    "        return binary_search(arr1[:mid], findme)\n",
    "    else:\n",
    "        return binary_search(arr1[mid+1:], findme)\n",
    "\n",
    "\n",
    "test = [1,2,3,4,5,8, 11,18,23, 205]\n",
    "binary_search(test, 10)"
   ]
  },
  {
   "cell_type": "code",
   "execution_count": 62,
   "metadata": {
    "scrolled": true
   },
   "outputs": [
    {
     "data": {
      "text/plain": [
       "('a', 'b')"
      ]
     },
     "execution_count": 62,
     "metadata": {},
     "output_type": "execute_result"
    }
   ],
   "source": [
    "def test1(arg1, arg2):\n",
    "    print(\"neat\")\n",
    "\n",
    "def test2():\n",
    "    return 'a', 'b'\n",
    "\n",
    "test2()"
   ]
  },
  {
   "cell_type": "code",
   "execution_count": 63,
   "metadata": {},
   "outputs": [
    {
     "data": {
      "text/plain": [
       "25"
      ]
     },
     "execution_count": 63,
     "metadata": {},
     "output_type": "execute_result"
    }
   ],
   "source": [
    "(lambda x: x**2)(5)"
   ]
  },
  {
   "cell_type": "code",
   "execution_count": 68,
   "metadata": {},
   "outputs": [
    {
     "name": "stdout",
     "output_type": "stream",
     "text": [
      "[0, 1, 4, 9, 16, 25, 36, 49, 64, 81]\n",
      "[9, 16, 25, 36, 49]\n"
     ]
    }
   ],
   "source": [
    "squares = list(map(lambda x: x**2, range(10)))\n",
    "print(squares)\n",
    "special_squares = list(filter(lambda x: x > 5 and x < 50, squares))\n",
    "print(special_squares)"
   ]
  },
  {
   "cell_type": "code",
   "execution_count": 77,
   "metadata": {},
   "outputs": [
    {
     "data": {
      "text/plain": [
       "24"
      ]
     },
     "execution_count": 77,
     "metadata": {},
     "output_type": "execute_result"
    }
   ],
   "source": [
    "from functools import reduce\n",
    "reduce(lambda x, y: x * y,range(4)\n",
    "     \n",
    "reduce((lambda x, y: x * y), range(1,5))"
   ]
  },
  {
   "cell_type": "code",
   "execution_count": 82,
   "metadata": {},
   "outputs": [
    {
     "data": {
      "text/plain": [
       "8"
      ]
     },
     "execution_count": 82,
     "metadata": {},
     "output_type": "execute_result"
    }
   ],
   "source": [
    "test = 1\n",
    "f = lambda x: x**3\n",
    "f(2)"
   ]
  },
  {
   "cell_type": "code",
   "execution_count": 83,
   "metadata": {
    "scrolled": true
   },
   "outputs": [
    {
     "data": {
      "text/plain": [
       "[-1, 1, 3, 5, 7, 9, 11, 13, 15, 17]"
      ]
     },
     "execution_count": 83,
     "metadata": {},
     "output_type": "execute_result"
    }
   ],
   "source": [
    "list(map(lambda x: x*2 - 1, range(10)))"
   ]
  },
  {
   "cell_type": "code",
   "execution_count": 91,
   "metadata": {},
   "outputs": [
    {
     "name": "stdout",
     "output_type": "stream",
     "text": [
      "18.333333333333332\n"
     ]
    },
    {
     "data": {
      "text/plain": [
       "[18, 1, 5, 4, 12, 18]"
      ]
     },
     "execution_count": 91,
     "metadata": {},
     "output_type": "execute_result"
    }
   ],
   "source": [
    "from statistics import mean\n",
    "arr1 = [18,1,23,5,4,12,65,18,19]\n",
    "list(filter(lambda x: x < mean(arr1),arr1))"
   ]
  },
  {
   "cell_type": "code",
   "execution_count": 92,
   "metadata": {},
   "outputs": [
    {
     "data": {
      "text/plain": [
       "24"
      ]
     },
     "execution_count": 92,
     "metadata": {},
     "output_type": "execute_result"
    }
   ],
   "source": [
    "l1 = [1,2,3,4]\n",
    "\n",
    "reduce(lambda x, y: x*y, l1)"
   ]
  },
  {
   "cell_type": "code",
   "execution_count": 94,
   "metadata": {},
   "outputs": [
    {
     "data": {
      "text/plain": [
       "55"
      ]
     },
     "execution_count": 94,
     "metadata": {},
     "output_type": "execute_result"
    }
   ],
   "source": [
    "def addNums(x):\n",
    "    if x <= 1:\n",
    "        return 1\n",
    "    else:\n",
    "        return x + addNums(x-1)\n",
    "\n",
    "addNums(10)"
   ]
  },
  {
   "cell_type": "code",
   "execution_count": 100,
   "metadata": {},
   "outputs": [
    {
     "data": {
      "text/plain": [
       "['Argentina', 'San Diego', 'Boston', 'New York']"
      ]
     },
     "execution_count": 100,
     "metadata": {},
     "output_type": "execute_result"
    }
   ],
   "source": [
    "places = [' ', 'Argentina', '  ', 'San Diego', '', '   ', '', 'Boston', 'New York']\n",
    "\n",
    "list(filter(lambda x: x.replace(\" \",\"\") != \"\",places))"
   ]
  },
  {
   "cell_type": "code",
   "execution_count": 109,
   "metadata": {},
   "outputs": [
    {
     "data": {
      "text/plain": [
       "[('Nashua', 89.6), ('Boston', 53.6), ('Los Angelos', 111.2), ('Miami', 84.2)]"
      ]
     },
     "execution_count": 109,
     "metadata": {},
     "output_type": "execute_result"
    }
   ],
   "source": [
    "places = [('Nashua', 32), ('Boston', 12), ('Los Angelos', 44), ('Miami', 29)]\n",
    "\n",
    "list(map(lambda x: (x[0], x[1]*(9/5)+32),places))\n",
    "# f = lambda x: x[0], x[1]*(9/5)+32"
   ]
  },
  {
   "cell_type": "code",
   "execution_count": 128,
   "metadata": {},
   "outputs": [
    {
     "data": {
      "text/plain": [
       "832040"
      ]
     },
     "execution_count": 128,
     "metadata": {},
     "output_type": "execute_result"
    }
   ],
   "source": [
    "fib_dict = {1:1,2:1,0:0}\n",
    "def fibonacci(x):\n",
    "#     base case\n",
    "    if x in fib_dict.keys():\n",
    "        return fib_dict[x]\n",
    "#     if x <= 1:\n",
    "#         return 1\n",
    "    else:\n",
    "        fib_dict[x] = fibonacci(x-1) + fibonacci(x-2)\n",
    "#     return fibonacci(x-1) + fibonacci(x-2)\n",
    "    return fib_dict[x]\n",
    "\n",
    "fibonacci(30)"
   ]
  },
  {
   "cell_type": "code",
   "execution_count": 131,
   "metadata": {
    "scrolled": true
   },
   "outputs": [
    {
     "data": {
      "text/plain": [
       "'2002, 2009, 2016, 2023, 2037, 2044, 2051, 2058, 2072, 2079, 2086, 2093, 2107, 2114, 2121, 2128, 2142, 2149, 2156, 2163, 2177, 2184, 2191, 2198, 2212, 2219, 2226, 2233, 2247, 2254, 2261, 2268, 2282, 2289, 2296, 2303, 2317, 2324, 2331, 2338, 2352, 2359, 2366, 2373, 2387, 2394, 2401, 2408, 2422, 2429, 2436, 2443, 2457, 2464, 2471, 2478, 2492, 2499, 2506, 2513, 2527, 2534, 2541, 2548, 2562, 2569, 2576, 2583, 2597, 2604, 2611, 2618, 2632, 2639, 2646, 2653, 2667, 2674, 2681, 2688, 2702, 2709, 2716, 2723, 2737, 2744, 2751, 2758, 2772, 2779, 2786, 2793, 2807, 2814, 2821, 2828, 2842, 2849, 2856, 2863, 2877, 2884, 2891, 2898, 2912, 2919, 2926, 2933, 2947, 2954, 2961, 2968, 2982, 2989, 2996, 3003, 3017, 3024, 3031, 3038, 3052, 3059, 3066, 3073, 3087, 3094, 3101, 3108, 3122, 3129, 3136, 3143, 3157, 3164, 3171, 3178, 3192, 3199'"
      ]
     },
     "execution_count": 131,
     "metadata": {},
     "output_type": "execute_result"
    }
   ],
   "source": [
    "# Question:\n",
    "# Write a program which will find all such numbers which are divisible by 7 but are not a multiple of 5,\n",
    "# between 2000 and 3200 (both included).\n",
    "# The numbers obtained should be printed in a comma-separated sequence on a single line.\n",
    "# Hints: \n",
    "# Consider use range(#begin, #end) method\n",
    "    \n",
    "\", \".join([str(each) for each in range(2000,3201) if each%7==0 and each%5!=0])\n",
    "    "
   ]
  }
 ],
 "metadata": {
  "kernelspec": {
   "display_name": "Python 3",
   "language": "python",
   "name": "python3"
  },
  "language_info": {
   "codemirror_mode": {
    "name": "ipython",
    "version": 3
   },
   "file_extension": ".py",
   "mimetype": "text/x-python",
   "name": "python",
   "nbconvert_exporter": "python",
   "pygments_lexer": "ipython3",
   "version": "3.6.4"
  }
 },
 "nbformat": 4,
 "nbformat_minor": 2
}
