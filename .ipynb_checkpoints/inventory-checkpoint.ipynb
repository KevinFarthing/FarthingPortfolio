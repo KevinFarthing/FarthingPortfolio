{
 "cells": [
  {
   "cell_type": "code",
   "execution_count": 20,
   "metadata": {},
   "outputs": [
    {
     "name": "stdout",
     "output_type": "stream",
     "text": [
      "CPU: 1\n",
      "Motherboard: 1\n",
      "RAM: 3\n",
      "\n",
      "CPU: 1\n",
      "Motherboard: 1\n"
     ]
    }
   ],
   "source": [
    "#inventory, include category, item quantity, add, remove, return a sorted list\n",
    "import operator\n",
    "class Inventory:\n",
    "    inv = []\n",
    "    def __init__(self,name, cost, quantity=1):\n",
    "        if name not in [n.name for n in Inventory.inv]:\n",
    "            self.name = name\n",
    "            self.cost = cost\n",
    "            self.quantity = quantity\n",
    "            Inventory.inv.append(self)\n",
    "        else:\n",
    "            Inventory.add_item(name, quantity)\n",
    "    \n",
    "    def __str__(self):\n",
    "        return f\"{each.name}: {each.quantity}\"\n",
    "    \n",
    "    def add_item(n, q):\n",
    "        for each in Inventory.inv:\n",
    "            if n == each.name:\n",
    "                each.quantity += q\n",
    "    \n",
    "    def remove_item(n, q=1):\n",
    "        for each in Inventory.inv:\n",
    "            if n == each.name:\n",
    "#                 each.quantity -= q\n",
    "                Inventory.inv.remove(each)\n",
    "    \n",
    "    def inv_sort():\n",
    "#         return sorted(inv, key=self.name)\n",
    "#         ain't gonna work\n",
    "        return sorted(Inventory.inv, key=lambda Inventory: Inventory.name)\n",
    "    \n",
    "    def list_inv():\n",
    "        for each in Inventory.inv_sort():\n",
    "            print(f\"{each.name}: {each.quantity}\")\n",
    "\n",
    "\n",
    "Inventory('RAM',85)\n",
    "Inventory('CPU',200)\n",
    "Inventory('Motherboard',150)\n",
    "Inventory('RAM',85)\n",
    "Inventory('RAM',85)\n",
    "\n",
    "Inventory.list_inv()\n",
    "print()\n",
    "Inventory.remove_item(\"RAM\")\n",
    "Inventory.list_inv()"
   ]
  },
  {
   "cell_type": "code",
   "execution_count": null,
   "metadata": {},
   "outputs": [],
   "source": []
  }
 ],
 "metadata": {
  "kernelspec": {
   "display_name": "Python 3",
   "language": "python",
   "name": "python3"
  },
  "language_info": {
   "codemirror_mode": {
    "name": "ipython",
    "version": 3
   },
   "file_extension": ".py",
   "mimetype": "text/x-python",
   "name": "python",
   "nbconvert_exporter": "python",
   "pygments_lexer": "ipython3",
   "version": "3.6.4"
  }
 },
 "nbformat": 4,
 "nbformat_minor": 2
}
