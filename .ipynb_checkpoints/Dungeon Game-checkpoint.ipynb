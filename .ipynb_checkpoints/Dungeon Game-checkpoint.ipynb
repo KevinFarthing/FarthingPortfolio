{
 "cells": [
  {
   "cell_type": "code",
   "execution_count": 80,
   "metadata": {},
   "outputs": [
    {
     "name": "stdout",
     "output_type": "stream",
     "text": [
      "WASDx\n"
     ]
    }
   ],
   "source": [
    "valid = False\n",
    "move = input(\"WASD\").lower()\n",
    "while not valid:\n",
    "    if move == \"w\":\n",
    "        hero[0] -= 1\n",
    "    elif move == \"a\":\n",
    "        hero[1] -= 1\n",
    "    elif move == \"s\":\n",
    "        hero[0] += 1\n",
    "    elif move == \"d\":\n",
    "        hero[1] += 1\n",
    "    else:\n",
    "        valid = True"
   ]
  },
  {
   "cell_type": "code",
   "execution_count": null,
   "metadata": {
    "scrolled": false
   },
   "outputs": [],
   "source": [
    "from random import choice\n",
    "from random import shuffle\n",
    "from random import randint\n",
    "from IPython.display import clear_output\n",
    "\n",
    "hero = [4,2]\n",
    "\n",
    "eggs = []\n",
    "for egg in range(3):\n",
    "    eggs.append((randint(0,4),randint(0,4)))\n",
    "    \n",
    "monster = (randint(0,4),randint(0,4))\n",
    "while monster in eggs or monster == hero:\n",
    "    monster = (randint(0,4),randint(0,4))\n",
    "\n",
    "while True:\n",
    "    door = [choice([0,4]),randint(0,4)]\n",
    "    shuffle(door)\n",
    "    door = tuple(door)\n",
    "    if door != monster and door not in eggs:\n",
    "        break\n",
    "\n",
    "grid = []\n",
    "for i in range(5):\n",
    "    grid_row = []\n",
    "    for j in range(5):\n",
    "        grid_row.append((i,j))\n",
    "    grid.append(grid_row)\n",
    "    \n",
    "def print_board(eggs, monster, door, hero):\n",
    "    for row in range(5):\n",
    "        for col in range(5):\n",
    "            if grid[row][col] in eggs:\n",
    "                print(\"[0]\", end=\"\")\n",
    "            elif grid[row][col] == monster:\n",
    "                print(\"[X]\", end=\"\")\n",
    "            elif grid[row][col]== door:\n",
    "                print(\"[D]\", end=\"\")\n",
    "            elif grid[row][col] == tuple(hero):\n",
    "                print(\"[H]\", end=\"\")\n",
    "            else:\n",
    "                print(f\"[_]\", end=\"\")\n",
    "        print('\\n')\n",
    "\n",
    "def get_move():\n",
    "    move = input(\"Up [w], Down [s] Left [a] or Right [d]: \").lower()\n",
    "    while move not in \"wasd\":\n",
    "        print(\"Please enter a valid move\")\n",
    "        move = input(\"Up [w], Down [s] Left [a] or Right [d]: \").lower()\n",
    "    return move\n",
    "\n",
    "    \n",
    "while True:\n",
    "    clear_output()\n",
    "    eggs_found = 0\n",
    "    print_board(eggs, monster, door, hero)\n",
    "    inside_boundaries = True\n",
    "    while inside_boundaries:\n",
    "        move = get_move()\n",
    "        if move == \"w\" and hero[0] != 0:\n",
    "            hero[0] -= 1\n",
    "            break\n",
    "        elif move == \"a\" and hero[1] != 0:\n",
    "            hero[1] -= 1\n",
    "            break\n",
    "        elif move == \"s\" and hero[0] != 4:\n",
    "            hero[0] += 1\n",
    "            break\n",
    "        elif move == \"d\" and hero[1] != 4:\n",
    "            hero[1] += 1\n",
    "        else:\n",
    "            inside_boundaries = False\n",
    "        \n",
    "    if tuple(hero) in eggs:\n",
    "        print(\"Good Job, you found an egg!\")\n",
    "        eggs_found += 1\n",
    "        eggs.remove(tuple(hero))\n",
    "    if eggs == []:\n",
    "        print(\"You found all the eggs!\")\n",
    "        break\n",
    "        "
   ]
  },
  {
   "cell_type": "code",
   "execution_count": 72,
   "metadata": {},
   "outputs": [
    {
     "data": {
      "text/plain": [
       "True"
      ]
     },
     "execution_count": 72,
     "metadata": {},
     "output_type": "execute_result"
    }
   ],
   "source": [
    "(1,1) == tuple([1,1])"
   ]
  }
 ],
 "metadata": {
  "kernelspec": {
   "display_name": "Python 3",
   "language": "python",
   "name": "python3"
  },
  "language_info": {
   "codemirror_mode": {
    "name": "ipython",
    "version": 3
   },
   "file_extension": ".py",
   "mimetype": "text/x-python",
   "name": "python",
   "nbconvert_exporter": "python",
   "pygments_lexer": "ipython3",
   "version": "3.6.4"
  }
 },
 "nbformat": 4,
 "nbformat_minor": 2
}
