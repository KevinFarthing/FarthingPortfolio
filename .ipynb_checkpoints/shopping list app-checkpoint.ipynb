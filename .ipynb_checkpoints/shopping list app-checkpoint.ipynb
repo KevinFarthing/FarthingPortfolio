{
 "cells": [
  {
   "cell_type": "code",
   "execution_count": 2,
   "metadata": {},
   "outputs": [],
   "source": [
    "arr1 = [val for val in range(10) if val%2==0]"
   ]
  },
  {
   "cell_type": "code",
   "execution_count": null,
   "metadata": {},
   "outputs": [],
   "source": [
    "arr1 = []\n",
    "arr1.append(input(\"What do you want to add to the list? \"))\n",
    "print(arr1)"
   ]
  },
  {
   "cell_type": "code",
   "execution_count": null,
   "metadata": {},
   "outputs": [],
   "source": [
    "def list_add():\n",
    "    arr1.append(input(\"What do you want to add to the list? \"))"
   ]
  },
  {
   "cell_type": "code",
   "execution_count": 4,
   "metadata": {},
   "outputs": [
    {
     "name": "stdout",
     "output_type": "stream",
     "text": [
      "What do you want to add to the list? stuff\n"
     ]
    }
   ],
   "source": [
    "list_add()"
   ]
  },
  {
   "cell_type": "code",
   "execution_count": null,
   "metadata": {},
   "outputs": [],
   "source": [
    "from IPython.display import clear_output\n",
    "\n",
    "def list_add_repeat():\n",
    "    while True:\n",
    "        clear_output()       \n",
    "        list_add()\n",
    "        print(arr1)\n",
    "        if input(\"Would you like to add another item? Y/N\").lower() == \"n\":\n",
    "            break\n",
    "    \n",
    "list_add_repeat()"
   ]
  },
  {
   "cell_type": "code",
   "execution_count": 19,
   "metadata": {},
   "outputs": [
    {
     "data": {
      "text/plain": [
       "-0.5"
      ]
     },
     "execution_count": 19,
     "metadata": {},
     "output_type": "execute_result"
    }
   ],
   "source": [
    "import os\n",
    "os.system(\"cls\" if os.name == 'nt' else 'clear')\n",
    "from IPython.display import clear_output\n",
    "clear_output()"
   ]
  },
  {
   "cell_type": "code",
   "execution_count": 1,
   "metadata": {
    "scrolled": true
   },
   "outputs": [
    {
     "name": "stdout",
     "output_type": "stream",
     "text": [
      "Thank you for using my app\n"
     ]
    }
   ],
   "source": [
    "from IPython.display import clear_output\n",
    "def show(list1):\n",
    "    print(list1)\n",
    "def help1():\n",
    "    print(\"#INSTRUCTIONS\\n    Enter ADD\\n    Enter SHOW\\n    Enter HELP\\n    Enter CLEAR\\n    Enter DELETE\\n    Enter DONE\")\n",
    "def del_item(list1, item):\n",
    "    if item in list1:\n",
    "        list1.remove(item)\n",
    "    else:\n",
    "        print(\"that item is not in this list.\")\n",
    "        \n",
    "def main():\n",
    "    shopping_list = {}\n",
    "    help1()\n",
    "    while True:\n",
    "        todo = input(\"What would you like to do? \").lower()\n",
    "        clear_output()\n",
    "        if todo ==\"done\":\n",
    "            print('Thank you for using my app')\n",
    "            break\n",
    "        elif todo == \"show\":\n",
    "            show(shopping_list)\n",
    "        elif todo == \"help\":\n",
    "            help1()\n",
    "        elif todo == \"clear\":\n",
    "            what_clear = input(\"Which item would you like to clear?\").lower()\n",
    "            if what_clear in shopping_list.keys():\n",
    "                shopping_list.pop(what_clear,None)\n",
    "            else:\n",
    "                print(\"That item is not in your cart\")\n",
    "        elif todo == \"delete\":\n",
    "            del_item(shopping_list,input(\"which item would you like to remove? \"))\n",
    "        elif todo == \"add\":\n",
    "            toadd=input(\"What would you like to add? \")\n",
    "            if toadd in shopping_list.keys():\n",
    "                while True:\n",
    "                    what_do = input(\"this item already exists. Would you like to add an additional? y/n: \").lower()\n",
    "                    if what_do == \"n\":\n",
    "                        break\n",
    "                    elif what_do == \"y\":\n",
    "                        shopping_list[toadd] += 1\n",
    "                        break\n",
    "                    else:\n",
    "                        print(\"Please enter 'y' or 'n'\")\n",
    "            else:\n",
    "                shopping_list[toadd] = 1\n",
    "        else:\n",
    "            print(\"Please input a valid command.\")\n",
    "            \n",
    "main()"
   ]
  },
  {
   "cell_type": "code",
   "execution_count": 3,
   "metadata": {},
   "outputs": [
    {
     "name": "stdout",
     "output_type": "stream",
     "text": [
      "{1: 2, 2: 2}\n"
     ]
    }
   ],
   "source": [
    "dict1 = {1:1, 2:2, 1:2}\n",
    "print(dict1)"
   ]
  }
 ],
 "metadata": {
  "kernelspec": {
   "display_name": "Python 3",
   "language": "python",
   "name": "python3"
  },
  "language_info": {
   "codemirror_mode": {
    "name": "ipython",
    "version": 3
   },
   "file_extension": ".py",
   "mimetype": "text/x-python",
   "name": "python",
   "nbconvert_exporter": "python",
   "pygments_lexer": "ipython3",
   "version": "3.6.4"
  }
 },
 "nbformat": 4,
 "nbformat_minor": 2
}
