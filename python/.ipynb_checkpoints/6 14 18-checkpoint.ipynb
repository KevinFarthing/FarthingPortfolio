{
 "cells": [
  {
   "cell_type": "code",
   "execution_count": 18,
   "metadata": {},
   "outputs": [
    {
     "data": {
      "text/plain": [
       "3"
      ]
     },
     "execution_count": 18,
     "metadata": {},
     "output_type": "execute_result"
    }
   ],
   "source": [
    "3%25"
   ]
  },
  {
   "cell_type": "code",
   "execution_count": 2,
   "metadata": {},
   "outputs": [],
   "source": [
    "a = {1:1,2:2}\n",
    "a.update({3:3,4:4})\n",
    "\n",
    "print(a)"
   ]
  },
  {
   "cell_type": "code",
   "execution_count": 3,
   "metadata": {},
   "outputs": [],
   "source": [
    "import random\n",
    "[random.randint(1,10) for i in range(10)]"
   ]
  },
  {
   "cell_type": "code",
   "execution_count": 4,
   "metadata": {
    "scrolled": true
   },
   "outputs": [
    {
     "name": "stdout",
     "output_type": "stream",
     "text": [
      "What would you like to do? done\n",
      "Thank you for using my app\n",
      "#INSTRUCTIONS\n",
      "    Enter ADD\n",
      "    Enter SHOW\n",
      "    Enter HELP\n",
      "    Enter CLEAR\n",
      "    Enter DELETE\n",
      "    Enter DONE\n",
      "What would you like to do? done\n",
      "Thank you for using my app\n"
     ]
    }
   ],
   "source": [
    "import modules2\n",
    "\n",
    "\n",
    "\n",
    "modules2.main()\n"
   ]
  },
  {
   "cell_type": "code",
   "execution_count": 5,
   "metadata": {
    "scrolled": true
   },
   "outputs": [
    {
     "name": "stdout",
     "output_type": "stream",
     "text": [
      "It's a Chevy Malibu\n"
     ]
    }
   ],
   "source": [
    "\n",
    "class Car:\n",
    "    #standard variable shared by object type. ie,\n",
    "    def __init__(self, make, model):\n",
    "        self.make =make \n",
    "        self.model=model\n",
    "    def display_info(self):\n",
    "        print(f\"It's a {self.make} {self.model}\")\n",
    "        \n",
    "car1 = Car(\"Chevy\",\"Malibu\")\n",
    "car1.display_info()"
   ]
  },
  {
   "cell_type": "code",
   "execution_count": 6,
   "metadata": {},
   "outputs": [
    {
     "name": "stdout",
     "output_type": "stream",
     "text": [
      "We are Coding Temple\n"
     ]
    }
   ],
   "source": [
    "class Company:\n",
    "    name = \"Coding Temple\"\n",
    "    def intro(self):\n",
    "        print(f\"We are {self.name}\")\n",
    "        \n",
    "ct = Company()\n",
    "ct.intro()"
   ]
  },
  {
   "cell_type": "code",
   "execution_count": 7,
   "metadata": {},
   "outputs": [
    {
     "name": "stdout",
     "output_type": "stream",
     "text": [
      "It's a Border Collie named Lassie who is not fuzzy\n"
     ]
    }
   ],
   "source": [
    "class Dog:\n",
    "    def __init__(self, name, breed, fuzzy=\"fuzzy\"):\n",
    "        self.name = name\n",
    "        self.breed = breed\n",
    "        self.fuzzy = fuzzy\n",
    "    def details(self):\n",
    "        print(f\"It's a {self.breed} named {self.name} who is {self.fuzzy}\")\n",
    "\n",
    "dog1 = Dog(\"Lassie\", \"Border Collie\", \"not fuzzy\")\n",
    "dog1.details()"
   ]
  },
  {
   "cell_type": "code",
   "execution_count": 8,
   "metadata": {},
   "outputs": [
    {
     "name": "stdout",
     "output_type": "stream",
     "text": [
      "Ramon\n",
      "Nathan\n"
     ]
    }
   ],
   "source": [
    "class Employee:\n",
    "    def __init__(self, first, last, salary, quantity):\n",
    "        self.first = first\n",
    "        self.last = last\n",
    "        self.salary = salary\n",
    "        self.quantity = quantity\n",
    "        self.email = f\"{first}.{last}@codingtemple.com\".lower()\n",
    "    def apply_raise(self):\n",
    "        self.salary = self.salary*1.15\n",
    "    def add(self, to_add=2):\n",
    "        self.quantity += to_add\n",
    "\n",
    "emp1 = Employee(\"Ramon\",\"Williamson\",5, 1)\n",
    "emp2 = Employee(\"Nathan\",\"Lord\",90,1)\n",
    "list1 = [emp1, emp2]\n",
    "for each in list1:\n",
    "    print(each.first)"
   ]
  },
  {
   "cell_type": "code",
   "execution_count": 11,
   "metadata": {},
   "outputs": [
    {
     "name": "stdout",
     "output_type": "stream",
     "text": [
      "#INSTRUCTIONS\n",
      "    Enter ADD\n",
      "    Enter SHOW\n",
      "    Enter HELP\n",
      "    Enter CLEAR\n",
      "    Enter DELETE\n",
      "    Enter DONE\n",
      "What would you like to do? add\n",
      "What would you like to add: pineapples\n",
      "How many: 12\n",
      "What would you like to do? show\n",
      "pineapples: 12\n",
      "What would you like to do? delete\n",
      "What would you like to remove: pineapples\n",
      "What would you like to do? show\n",
      "What would you like to do? add\n",
      "What would you like to add: kebabs\n",
      "How many: 2\n",
      "What would you like to do? add\n",
      "What would you like to add: pineapples\n",
      "How many: 12\n",
      "What would you like to do? show\n",
      "kebabs: 2\n",
      "pineapples: 12\n",
      "What would you like to do? delete\n",
      "What would you like to remove: pineapples\n",
      "What would you like to do? show\n",
      "kebabs: 2\n",
      "What would you like to do? done\n",
      "kebabs: 2\n",
      "Thank you for using my app\n"
     ]
    }
   ],
   "source": [
    "from IPython.display import clear_output\n",
    "shopping_cart = []\n",
    "def help1():\n",
    "    print(\"#INSTRUCTIONS\\n    Enter ADD\\n    Enter SHOW\\n    Enter HELP\\n    Enter CLEAR\\n    Enter DELETE\\n    Enter DONE\")\n",
    "    \n",
    "class Grocery:\n",
    "    def __init__(self, name, quantity=1):\n",
    "        self.name=name\n",
    "        self.quantity=quantity\n",
    "        \n",
    "    def __str__(self):\n",
    "        return f\"<ListItem: {self.name}>\"\n",
    "        \n",
    "    def add(self,to_add=1):\n",
    "        self.quantity+=to_add\n",
    "        #only adds if it's already initialized\n",
    "        \n",
    "    def remove(self,to_remove=1):\n",
    "        self.quantity-=to_remove\n",
    "        #add a bit in the main() that removes the object from shopping_cart if item.quantity==0\n",
    "        \n",
    "def y_n():\n",
    "    com = None\n",
    "    while com not in [\"y\",\"n\"]:\n",
    "        com = input(\"Would you like to continue? y/n: \").lower()\n",
    "    return com==\"y\"\n",
    "\n",
    "def show(list1):\n",
    "    for each in list1:\n",
    "        print(str(each.name) + \": \" + str(each.quantity))\n",
    "        \n",
    "\n",
    "def main():\n",
    "    shopping_list = []\n",
    "    help1()\n",
    "    while True:\n",
    "        todo = input(\"What would you like to do? \").lower()\n",
    "        if todo ==\"done\":\n",
    "            show(shopping_list)\n",
    "            print('Thank you for using my app')\n",
    "            break\n",
    "        elif todo == \"show\":\n",
    "            show(shopping_list)\n",
    "        elif todo == \"help\":\n",
    "            help1()\n",
    "        elif todo == \"clear\":\n",
    "            clear_output()\n",
    "        elif todo == \"add\":\n",
    "            to_add = str(input(\"What would you like to add: \")).lower()\n",
    "            how_many = int(input(\"How many: \"))\n",
    "            present = False\n",
    "            for each in shopping_list:\n",
    "                if each.name == to_add:\n",
    "                    print(f\"There are already {each.quantity} {each.name} in your shopping list.\")\n",
    "                    present = True\n",
    "                    if y_n():\n",
    "                        each.add(how_many)\n",
    "            if not present:\n",
    "                shopping_list.append(Grocery(to_add,how_many))\n",
    "                \n",
    "                \n",
    "           \n",
    "        elif todo == \"delete\":\n",
    "            to_remove = str(input(\"What would you like to remove: \")).lower()\n",
    "            present = False\n",
    "            for each in shopping_list:\n",
    "                if each.name == to_remove:\n",
    "                    present = True\n",
    "#                     print(shopping_list.index(each))\n",
    "                    del shopping_list[shopping_list.index(each)]\n",
    "            if not present:\n",
    "                print(f\"{to_remove} not present in your list.\")\n",
    "                \n",
    "                \n",
    "        else:\n",
    "            print(\"Please input a valid command.\")\n",
    "            \n",
    "main()"
   ]
  },
  {
   "cell_type": "code",
   "execution_count": 2,
   "metadata": {},
   "outputs": [
    {
     "name": "stdout",
     "output_type": "stream",
     "text": [
      "\u0000\u0000\u0000\u0000\u0000\u0000\u0000\u0000\u0000\u0000\n"
     ]
    }
   ],
   "source": [
    "alphabet = \"abcdefghijklmnopqrstuvwxyz\"\n",
    "key = \"password\"\n",
    "text = \"aaaaaaaaaa\"\n",
    "text = [alphabet.index(l) for l in text]\n",
    "keyexpand = [alphabet.index(l) for l in (key*(int(len(text)/len(key))+1))[:len(text)]]\n",
    "\n",
    "for i in range(len(text)):\n",
    "    if chr(text[i]) in alphabet:\n",
    "        text[i]=chr((text[i]+keyexpand[i])%len(alphabet))\n",
    "    else:\n",
    "        text[i] = chr(text[i])\n",
    "text = \"\".join(text)\n",
    "print(text)"
   ]
  },
  {
   "cell_type": "code",
   "execution_count": null,
   "metadata": {},
   "outputs": [],
   "source": [
    "# ohohoho\n",
    "class VigenereCipher(object):\n",
    "    def __init__(self, key, alphabet):\n",
    "        self.key = key\n",
    "        self.alphabet = alphabet\n",
    "    \n",
    "    def encode(self, text):\n",
    "        text = [ord(l)-97 for l in text]\n",
    "        keyexpand = [ord(l)-97 for l in (self.key*(int(len(text)/len(self.key))+1))[:len(text)]]\n",
    "        for i in range(len(text)):\n",
    "            if chr(text[i]+97) in self.alphabet:\n",
    "                text[i]=chr((text[i]+keyexpand[i])%26+97)\n",
    "            else:\n",
    "                text[i] = chr(text[i]+97)\n",
    "        return \"\".join(text)\n",
    "                \n",
    "    \n",
    "    def decode(self, text):\n",
    "        text = [ord(l)-97 for l in text]\n",
    "        keyexpand = [ord(l)-97 for l in (self.key*(int(len(text)/len(self.key))+1))[:len(text)]]\n",
    "        for i in range(len(text)):\n",
    "            if chr(text[i]+97) in self.alphabet:\n",
    "                text[i]=chr((text[i]-keyexpand[i])%26+97)\n",
    "            else:\n",
    "                text[i] = chr(text[i]+97)\n",
    "        return \"\".join(text)                "
   ]
  }
 ],
 "metadata": {
  "kernelspec": {
   "display_name": "Python 3",
   "language": "python",
   "name": "python3"
  },
  "language_info": {
   "codemirror_mode": {
    "name": "ipython",
    "version": 3
   },
   "file_extension": ".py",
   "mimetype": "text/x-python",
   "name": "python",
   "nbconvert_exporter": "python",
   "pygments_lexer": "ipython3",
   "version": "3.6.4"
  }
 },
 "nbformat": 4,
 "nbformat_minor": 2
}
